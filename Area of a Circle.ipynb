{
  "nbformat": 4,
  "nbformat_minor": 0,
  "metadata": {
    "colab": {
      "name": "Area of a Circle.ipynb",
      "provenance": [],
      "authorship_tag": "ABX9TyMoWEbZ6ynXc62t4TqnK4lA",
      "include_colab_link": true
    },
    "kernelspec": {
      "name": "python3",
      "display_name": "Python 3"
    },
    "language_info": {
      "name": "python"
    }
  },
  "cells": [
    {
      "cell_type": "markdown",
      "metadata": {
        "id": "view-in-github",
        "colab_type": "text"
      },
      "source": [
        "<a href=\"https://colab.research.google.com/github/Eberhard-26/DSA-58010/blob/main/Area%20of%20a%20Circle.ipynb\" target=\"_parent\"><img src=\"https://colab.research.google.com/assets/colab-badge.svg\" alt=\"Open In Colab\"/></a>"
      ]
    },
    {
      "cell_type": "markdown",
      "source": [
        "Area of a Circle"
      ],
      "metadata": {
        "id": "O438JFG6TqSQ"
      }
    },
    {
      "cell_type": "code",
      "source": [
        "pi = 3.14159\n",
        "\n",
        "r = int(input(\"Enter the radius of a circle: \"))\n",
        "area = r * r * pi\n",
        "\n",
        "print(\"Area of the circle (Radius) = %.2f\" %area)\n",
        "\n",
        "\n",
        "d = int(input(\"Enter the diameter of a circle: \"))\n",
        "diameter = pi * (d * d)/4\n",
        "\n",
        "print(\"Area of the circle (Diameter) = %.2f\" %diameter)"
      ],
      "metadata": {
        "colab": {
          "base_uri": "https://localhost:8080/"
        },
        "id": "MISACMgETxyC",
        "outputId": "ea199431-b49c-4f30-e523-c4f5e4bf9fa3"
      },
      "execution_count": 48,
      "outputs": [
        {
          "output_type": "stream",
          "name": "stdout",
          "text": [
            "Enter the radius of a circle: 12\n",
            "Area of the circle (Radius) = 452.39\n",
            "Enter the diameter of a circle: 1\n",
            "Area of the circle (Diameter) = 0.79\n"
          ]
        }
      ]
    }
  ]
}