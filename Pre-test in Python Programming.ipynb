{
  "nbformat": 4,
  "nbformat_minor": 0,
  "metadata": {
    "colab": {
      "name": "Untitled0.ipynb",
      "provenance": [],
      "authorship_tag": "ABX9TyMJcyISNr+PMcgfgtL/fPZB",
      "include_colab_link": true
    },
    "kernelspec": {
      "name": "python3",
      "display_name": "Python 3"
    },
    "language_info": {
      "name": "python"
    }
  },
  "cells": [
    {
      "cell_type": "markdown",
      "metadata": {
        "id": "view-in-github",
        "colab_type": "text"
      },
      "source": [
        "<a href=\"https://colab.research.google.com/github/Eberhard-26/DSA-58010/blob/main/Pre-test%20in%20Python%20Programming.ipynb\" target=\"_parent\"><img src=\"https://colab.research.google.com/assets/colab-badge.svg\" alt=\"Open In Colab\"/></a>"
      ]
    },
    {
      "cell_type": "markdown",
      "source": [
        "Question 1"
      ],
      "metadata": {
        "id": "nfNuBpY_Ilho"
      }
    },
    {
      "cell_type": "code",
      "source": [
        "class Person:\n",
        "  def __init__(self, name, age):\n",
        "      self.name = name\n",
        "      self.age = age\n",
        "\n",
        "person = Person(\"Ana\",39)\n",
        "print(person.name)\n",
        "print(person.age)"
      ],
      "metadata": {
        "colab": {
          "base_uri": "https://localhost:8080/"
        },
        "id": "kjDtxkdEI0oy",
        "outputId": "130a75ee-768c-4f9c-bd81-cb67108384d9"
      },
      "execution_count": null,
      "outputs": [
        {
          "output_type": "stream",
          "name": "stdout",
          "text": [
            "Ana\n",
            "39\n"
          ]
        }
      ]
    },
    {
      "cell_type": "markdown",
      "source": [
        "Question 2"
      ],
      "metadata": {
        "id": "aIhCOR4NJ5qh"
      }
    },
    {
      "cell_type": "code",
      "source": [
        "class Shape:\n",
        "  def square(self):\n",
        "    return \"4 sides are equal\"\n",
        "  def rectangle(self):\n",
        "    return \"2 sides are equal\"\n",
        "\n",
        "class Polygon(Shape):\n",
        "    def triangle(self):\n",
        "     return \"has edges and vertices\"\n",
        "\n",
        "object = Shape()\n",
        "\n",
        "object.square()         "
      ],
      "metadata": {
        "id": "7C_pFyYCJ7Dl",
        "colab": {
          "base_uri": "https://localhost:8080/",
          "height": 37
        },
        "outputId": "9c387cd3-2901-44be-ad37-82291b16e69e"
      },
      "execution_count": 16,
      "outputs": [
        {
          "output_type": "execute_result",
          "data": {
            "text/plain": [
              "'4 sides are equal'"
            ],
            "application/vnd.google.colaboratory.intrinsic+json": {
              "type": "string"
            }
          },
          "metadata": {},
          "execution_count": 16
        }
      ]
    },
    {
      "cell_type": "markdown",
      "source": [
        "Question 3"
      ],
      "metadata": {
        "id": "emJsoQAgKrWq"
      }
    },
    {
      "cell_type": "code",
      "source": [
        "class Rectangle:\n",
        "  def __init__(self, length, width):\n",
        "    self.length = length\n",
        "    self.width = width\n",
        "\n",
        "  def Area(self):\n",
        "    print(self.length * self.width)\n",
        "\n",
        "rect = Rectangle (7,3)\n",
        "rect.Area()    "
      ],
      "metadata": {
        "colab": {
          "base_uri": "https://localhost:8080/"
        },
        "id": "L1nMWYgSKt8V",
        "outputId": "6b7cdadb-8f82-4da1-bf3f-7cf4411b8c48"
      },
      "execution_count": 19,
      "outputs": [
        {
          "output_type": "stream",
          "name": "stdout",
          "text": [
            "21\n"
          ]
        }
      ]
    },
    {
      "cell_type": "markdown",
      "source": [
        "Question 4"
      ],
      "metadata": {
        "id": "SAVPuh_4LLmT"
      }
    },
    {
      "cell_type": "code",
      "source": [
        "class Shape:\n",
        "  def Area(self):\n",
        "    pass\n",
        "  def Perimeter(self):\n",
        "    pass\n",
        "\n",
        "class Rectangle:\n",
        "  def __init__(self, side1, side2):\n",
        "    self.side1 = side1\n",
        "    self.side2 = side2\n",
        "  def Area(self):\n",
        "    print(self.side1*self.side2)\n",
        "  def Perimeter(self):\n",
        "    print(2*(self.side1+self.side2))\n",
        "\n",
        "class Square(Shape):\n",
        "  def __init__(self,side):\n",
        "    self.side = side\n",
        "  def Area(self):\n",
        "    print(self.side**2)\n",
        "  def Perimeter(self):\n",
        "    print(self.side*4)\n",
        "\n",
        "square = Square(4)\n",
        "square.Area()\n",
        "\n",
        "rect = Rectangle(7,3)\n",
        "rect.Area()\n",
        "\n",
        "square.Perimeter()\n",
        "rect.Perimeter()"
      ],
      "metadata": {
        "colab": {
          "base_uri": "https://localhost:8080/"
        },
        "id": "3Rosx7X0LNG4",
        "outputId": "52f4044e-8d72-4408-d7ca-47ae5dec59c0"
      },
      "execution_count": 20,
      "outputs": [
        {
          "output_type": "stream",
          "name": "stdout",
          "text": [
            "16\n",
            "21\n",
            "16\n",
            "20\n"
          ]
        }
      ]
    }
  ]
}