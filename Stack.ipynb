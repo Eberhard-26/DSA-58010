{
  "nbformat": 4,
  "nbformat_minor": 0,
  "metadata": {
    "colab": {
      "provenance": [],
      "authorship_tag": "ABX9TyM3HLAB8GCHDrrS9C1w3fKq",
      "include_colab_link": true
    },
    "kernelspec": {
      "name": "python3",
      "display_name": "Python 3"
    },
    "language_info": {
      "name": "python"
    }
  },
  "cells": [
    {
      "cell_type": "markdown",
      "metadata": {
        "id": "view-in-github",
        "colab_type": "text"
      },
      "source": [
        "<a href=\"https://colab.research.google.com/github/Eberhard-26/DSA-58010/blob/main/Stack.ipynb\" target=\"_parent\"><img src=\"https://colab.research.google.com/assets/colab-badge.svg\" alt=\"Open In Colab\"/></a>"
      ]
    },
    {
      "cell_type": "code",
      "execution_count": null,
      "metadata": {
        "colab": {
          "base_uri": "https://localhost:8080/"
        },
        "id": "qI_763qnE_Dt",
        "outputId": "0ca376d2-8b78-4df5-b783-12a63631e304"
      },
      "outputs": [
        {
          "output_type": "stream",
          "name": "stdout",
          "text": [
            "The list of elements in the stack are: \n",
            "['Mon', 'Tues', 'Wed', 'Thurs']\n",
            "Thurs\n",
            "Wed\n",
            "\n",
            "After popping thursday, the new elements in the stack are: \n",
            "['Mon', 'Tues']\n"
          ]
        }
      ],
      "source": [
        "class Stack:\n",
        "   def __init__(self):\n",
        "      self.stack = []\n",
        "\n",
        "   def add(self, dataval):\n",
        "# Use list append method to add element\n",
        "      if dataval not in self.stack:\n",
        "         self.stack.append(dataval)\n",
        "         return True\n",
        "      else:\n",
        "         return False\n",
        "  #def printlist(self):\n",
        "\n",
        "# Use list pop method to remove element\n",
        "   def remove(self):\n",
        "      if len(self.stack) <= 0:\n",
        "         return (\"No element in the Stack\")\n",
        "      else:\n",
        "         return self.stack.pop()\n",
        "\n",
        "AStack = []\n",
        "  #To APPEND/push all the elements in the stack\n",
        "AStack.append('Mon')\n",
        "AStack.append('Tues')\n",
        "AStack.append('Wed')\n",
        "AStack.append('Thurs')\n",
        "print(\"The list of elements in the stack are: \")\n",
        "print(AStack) \n",
        "  #To remove each element/pop()\n",
        "print(AStack.pop())\n",
        "print(AStack.pop())\n",
        "print(\"\\nAfter popping thursday, the new elements in the stack are: \")\n",
        "print(AStack)"
      ]
    },
    {
      "cell_type": "markdown",
      "source": [
        "##Stack using Linked List"
      ],
      "metadata": {
        "id": "eNuJO8AIafoE"
      }
    },
    {
      "cell_type": "code",
      "source": [
        "#Python program to demo stack using Linked List\n",
        "\n",
        "class Node:\n",
        "  def __init__(self, data):\n",
        "    self.data = data\n",
        "    self.next = None #initialize as null\n",
        "\n",
        "class LinkedList:\n",
        "  def __init__(self):\n",
        "    self.head = None #initialize as null\n",
        "  def printlist (self):\n",
        "    temp = self.head \n",
        "    while(temp):\n",
        "      print(temp.data)\n",
        "      temp = temp.next \n",
        "\n",
        "  def is_empty(self):\n",
        "    if self.head == None:\n",
        "      return True\n",
        "    else:\n",
        "      return False\n",
        "\n",
        "  def pop(self):\n",
        "    if self.is_empty():\n",
        "      return None\n",
        "    else:\n",
        "      poppedNode = fourth\n",
        "      return poppedNode.data\n",
        "\n",
        "llist = LinkedList()\n",
        "llist.head = Node ('Mon')\n",
        "second = Node ('Tues')\n",
        "third = Node ('Wed')\n",
        "fourth = Node ('Thurs')\n",
        "\n",
        "llist.head.next = second\n",
        "second.next = third\n",
        "third.next = fourth\n",
        "\n",
        "llist.printlist()\n",
        "llist.pop()"
      ],
      "metadata": {
        "colab": {
          "base_uri": "https://localhost:8080/",
          "height": 105
        },
        "id": "MaFYPMJPNS_B",
        "outputId": "87cde54d-52e7-4975-cb51-1d8d559fbc3b"
      },
      "execution_count": null,
      "outputs": [
        {
          "output_type": "stream",
          "name": "stdout",
          "text": [
            "Mon\n",
            "Tues\n",
            "Wed\n",
            "Thurs\n"
          ]
        },
        {
          "output_type": "execute_result",
          "data": {
            "text/plain": [
              "'Thurs'"
            ],
            "application/vnd.google.colaboratory.intrinsic+json": {
              "type": "string"
            }
          },
          "metadata": {},
          "execution_count": 79
        }
      ]
    }
  ]
}