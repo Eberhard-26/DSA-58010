{
  "nbformat": 4,
  "nbformat_minor": 0,
  "metadata": {
    "colab": {
      "name": "Area of a Circle.ipynb",
      "provenance": [],
      "authorship_tag": "ABX9TyMvhjJG0monrGM//Rww7702",
      "include_colab_link": true
    },
    "kernelspec": {
      "name": "python3",
      "display_name": "Python 3"
    },
    "language_info": {
      "name": "python"
    }
  },
  "cells": [
    {
      "cell_type": "markdown",
      "metadata": {
        "id": "view-in-github",
        "colab_type": "text"
      },
      "source": [
        "<a href=\"https://colab.research.google.com/github/Eberhard-26/DSA-58010/blob/main/Area_of_a_Circle.ipynb\" target=\"_parent\"><img src=\"https://colab.research.google.com/assets/colab-badge.svg\" alt=\"Open In Colab\"/></a>"
      ]
    },
    {
      "cell_type": "markdown",
      "source": [
        "Area of a Circle"
      ],
      "metadata": {
        "id": "O438JFG6TqSQ"
      }
    },
    {
      "cell_type": "code",
      "source": [
        "r = int(input(\"Enter the radius of a circle: \"))\n",
        "area = r * r * pi\n",
        "\n",
        "pi = 3.14159\n",
        "print(\"Area = %.2f\" %area)"
      ],
      "metadata": {
        "colab": {
          "base_uri": "https://localhost:8080/"
        },
        "id": "MISACMgETxyC",
        "outputId": "4d356b5a-8776-45a3-ff5e-940bc741dc77"
      },
      "execution_count": 35,
      "outputs": [
        {
          "output_type": "stream",
          "name": "stdout",
          "text": [
            "Enter the radius of a circle: 12\n",
            "Area = 452.39\n"
          ]
        }
      ]
    }
  ]
}