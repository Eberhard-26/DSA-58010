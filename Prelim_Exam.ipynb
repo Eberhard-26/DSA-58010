{
  "nbformat": 4,
  "nbformat_minor": 0,
  "metadata": {
    "colab": {
      "provenance": [],
      "authorship_tag": "ABX9TyNB/ahOlCE8lQ2RJrgNyduY",
      "include_colab_link": true
    },
    "kernelspec": {
      "name": "python3",
      "display_name": "Python 3"
    },
    "language_info": {
      "name": "python"
    }
  },
  "cells": [
    {
      "cell_type": "markdown",
      "metadata": {
        "id": "view-in-github",
        "colab_type": "text"
      },
      "source": [
        "<a href=\"https://colab.research.google.com/github/Eberhard-26/DSA-58010/blob/main/Prelim_Exam.ipynb\" target=\"_parent\"><img src=\"https://colab.research.google.com/assets/colab-badge.svg\" alt=\"Open In Colab\"/></a>"
      ]
    },
    {
      "cell_type": "code",
      "source": [
        "import numpy as numpy\n",
        "\n",
        "list1 = [1, 2, 3, 4, 5, 6, 7, 8, 9, 10]\n",
        "print(list1)\n",
        "\n",
        "num = 2 \n",
        "A = numpy.array([]) \n",
        "numberofeven = 0 \n",
        "\n",
        "while num < 11:  \n",
        "    A = numpy.append(A,[num]) \n",
        "    num=num+2\n",
        "for elements in A: \n",
        "\n",
        "  if (elements % 2 == 0):\n",
        "        numberofeven = numberofeven+1\n",
        "\n",
        "print(\"Number of even numbers:\", numberofeven)   \n",
        "\n",
        "\n",
        "print(\"Even numbers:\")\n",
        "for num in list1:\n",
        "    # check\n",
        "    if num % 2 == 0:\n",
        "        print(num, end=\" \")"
      ],
      "metadata": {
        "colab": {
          "base_uri": "https://localhost:8080/"
        },
        "id": "-rIagYKtUeAA",
        "outputId": "bc81d235-5c83-4585-cf2c-8deb274ff09b"
      },
      "execution_count": 110,
      "outputs": [
        {
          "output_type": "stream",
          "name": "stdout",
          "text": [
            "[1, 2, 3, 4, 5, 6, 7, 8, 9, 10]\n",
            "Number of even numbers: 5\n",
            "Even numbers:\n",
            "2 4 6 8 10 "
          ]
        }
      ]
    }
  ]
}