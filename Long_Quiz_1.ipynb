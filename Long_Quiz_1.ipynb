{
  "nbformat": 4,
  "nbformat_minor": 0,
  "metadata": {
    "colab": {
      "provenance": [],
      "authorship_tag": "ABX9TyNRcFrT1DoZpcVbDVzZXck3",
      "include_colab_link": true
    },
    "kernelspec": {
      "name": "python3",
      "display_name": "Python 3"
    },
    "language_info": {
      "name": "python"
    }
  },
  "cells": [
    {
      "cell_type": "markdown",
      "metadata": {
        "id": "view-in-github",
        "colab_type": "text"
      },
      "source": [
        "<a href=\"https://colab.research.google.com/github/Eberhard-26/DSA-58010/blob/main/Long_Quiz_1.ipynb\" target=\"_parent\"><img src=\"https://colab.research.google.com/assets/colab-badge.svg\" alt=\"Open In Colab\"/></a>"
      ]
    },
    {
      "cell_type": "code",
      "execution_count": 27,
      "metadata": {
        "colab": {
          "base_uri": "https://localhost:8080/"
        },
        "id": "o643FF1nNlRa",
        "outputId": "008d7f57-3290-40dd-92b2-305cf3a3bb11"
      },
      "outputs": [
        {
          "output_type": "stream",
          "name": "stdout",
          "text": [
            "Enter your full name: Eberhard Josh De Casa\n",
            "Eberhard Josh De Casa\n",
            "a s a C   e D   h s o J   d r a h r e b E "
          ]
        }
      ],
      "source": [
        "name = input(str(\"Enter your full name: \"))\n",
        "\n",
        "nameinlist = list(name)\n",
        "\n",
        "print(name)\n",
        "\n",
        "nameinlist.reverse()\n",
        "\n",
        "for x in nameinlist:\n",
        "    print(x, \"\", end='')"
      ]
    }
  ]
}