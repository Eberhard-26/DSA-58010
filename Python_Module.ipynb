{
  "nbformat": 4,
  "nbformat_minor": 0,
  "metadata": {
    "colab": {
      "provenance": [],
      "authorship_tag": "ABX9TyPKRfPwzaCcL29EQOHP8i0P",
      "include_colab_link": true
    },
    "kernelspec": {
      "name": "python3",
      "display_name": "Python 3"
    },
    "language_info": {
      "name": "python"
    }
  },
  "cells": [
    {
      "cell_type": "markdown",
      "metadata": {
        "id": "view-in-github",
        "colab_type": "text"
      },
      "source": [
        "<a href=\"https://colab.research.google.com/github/Eberhard-26/DSA-58010/blob/main/Python_Module.ipynb\" target=\"_parent\"><img src=\"https://colab.research.google.com/assets/colab-badge.svg\" alt=\"Open In Colab\"/></a>"
      ]
    },
    {
      "cell_type": "markdown",
      "source": [
        "Example 1"
      ],
      "metadata": {
        "id": "QfNWUxCg41w6"
      }
    },
    {
      "cell_type": "code",
      "execution_count": 5,
      "metadata": {
        "colab": {
          "base_uri": "https://localhost:8080/"
        },
        "id": "UHx82JOC41Go",
        "outputId": "a86743de-e237-47ac-a93f-9cac9602d92d"
      },
      "outputs": [
        {
          "output_type": "stream",
          "name": "stdout",
          "text": [
            "i\n",
            "f\n"
          ]
        }
      ],
      "source": [
        "import array\n",
        "array.typecodes                                  #get all typecodes\n",
        "a = array.array('i',[1,2,3,4,5,6])               #initializing array a\n",
        "b = array.array('f',[1.5,2.5,3.5,4.5,5.5,6.5])   #initializing array b\n",
        "print (a.typecode)                               #getting the typecode of a\n",
        "print (b.typecode)                               #getting the typecode of b"
      ]
    },
    {
      "cell_type": "markdown",
      "source": [
        "Example 2. Create/convert the elements of array A to float/decimal number"
      ],
      "metadata": {
        "id": "S3ooKW1W8Vyf"
      }
    },
    {
      "cell_type": "code",
      "source": [
        "A = array.array ('f', [1,2,3,4,5,6])              #initializing elements of array A\n",
        "print (A)\n"
      ],
      "metadata": {
        "colab": {
          "base_uri": "https://localhost:8080/"
        },
        "id": "1SnB8Kud8cdG",
        "outputId": "7580e59d-cb6c-4eba-eb51-7d901e62501c"
      },
      "execution_count": 6,
      "outputs": [
        {
          "output_type": "stream",
          "name": "stdout",
          "text": [
            "array('f', [1.0, 2.0, 3.0, 4.0, 5.0, 6.0])\n"
          ]
        }
      ]
    },
    {
      "cell_type": "markdown",
      "source": [
        "Example 3"
      ],
      "metadata": {
        "id": "Ck_mBA8Z_vGW"
      }
    },
    {
      "cell_type": "code",
      "source": [
        "from array import array\n",
        "a = array('i',[4,5,6,7])\n",
        "\n",
        "a.insert(1,2)\n",
        "print(a)\n",
        "a.insert(-1,0)\n",
        "print(a)\n",
        "a.insert(6,8)\n",
        "print(a)\n",
        "\n",
        "b[0] = 5\n",
        "b[1] = 4\n",
        "b[2] = 3\n",
        "print (b)"
      ],
      "metadata": {
        "colab": {
          "base_uri": "https://localhost:8080/"
        },
        "id": "n3rlVi2g-zfY",
        "outputId": "bc4da7f3-b791-49f5-cd3a-633b36e2e3b9"
      },
      "execution_count": 21,
      "outputs": [
        {
          "output_type": "stream",
          "name": "stdout",
          "text": [
            "array('i', [4, 2, 5, 6, 7])\n",
            "array('i', [4, 2, 5, 6, 0, 7])\n",
            "array('i', [4, 2, 5, 6, 0, 7, 8])\n",
            "array('f', [5.0, 4.0, 3.0, 4.5, 5.5, 9.0])\n"
          ]
        }
      ]
    },
    {
      "cell_type": "markdown",
      "source": [
        "Linked Lists"
      ],
      "metadata": {
        "id": "PZ_pFVOYDSjR"
      }
    },
    {
      "cell_type": "code",
      "source": [
        "#function that creates node object\n",
        "\n",
        "class Node:\n",
        "  def __init__(self, data):\n",
        "    self.data = data           # assign data\n",
        "    self.next = None           # initialize as null\n",
        "\n",
        "#function that creates linked-list object\n",
        "\n",
        "class LinkedList:\n",
        "  def __init__(self):\n",
        "    self.head = None           #initialize head as null\n",
        "\n",
        "  def printlist(self):\n",
        "    temp = self.head\n",
        "    while(temp!= None):\n",
        "      print(temp.data)\n",
        "      temp = temp.next\n",
        "\n",
        "\n",
        "\n",
        "list = LinkedList()            #empty list\n",
        "list.head = Node(1)\n",
        "second = Node(2)\n",
        "third = Node(3)\n",
        "fourth = Node (4)\n",
        "\n",
        "list.head.next=second\n",
        "second.next = third\n",
        "third.next = fourth\n",
        "\n",
        "list.printlist()"
      ],
      "metadata": {
        "colab": {
          "base_uri": "https://localhost:8080/"
        },
        "id": "BZ_CxIuIDUiE",
        "outputId": "68458b63-f45a-4cbb-dbbe-1dcac8b8c3bb"
      },
      "execution_count": 53,
      "outputs": [
        {
          "output_type": "stream",
          "name": "stdout",
          "text": [
            "1\n",
            "2\n",
            "3\n",
            "4\n"
          ]
        }
      ]
    }
  ]
}