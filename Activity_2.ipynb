{
  "nbformat": 4,
  "nbformat_minor": 0,
  "metadata": {
    "colab": {
      "provenance": [],
      "authorship_tag": "ABX9TyPmMsfPueiT+LlCx32KLVCj",
      "include_colab_link": true
    },
    "kernelspec": {
      "name": "python3",
      "display_name": "Python 3"
    },
    "language_info": {
      "name": "python"
    }
  },
  "cells": [
    {
      "cell_type": "markdown",
      "metadata": {
        "id": "view-in-github",
        "colab_type": "text"
      },
      "source": [
        "<a href=\"https://colab.research.google.com/github/Eberhard-26/DSA-58010/blob/main/Activity_2.ipynb\" target=\"_parent\"><img src=\"https://colab.research.google.com/assets/colab-badge.svg\" alt=\"Open In Colab\"/></a>"
      ]
    },
    {
      "cell_type": "markdown",
      "source": [
        "Write a Python program to create a singly linked list of prime numbers less than 20. \n",
        "By iterating through the list, display all the prime numbers, the head, and the tail of the list. "
      ],
      "metadata": {
        "id": "6wBInOSIN3GI"
      }
    },
    {
      "cell_type": "code",
      "source": [
        "class linkedListNode:\n",
        "    def __init__(self, value, nextNode=None):\n",
        "        self.value = value\n",
        "        self.nextNode = nextNode\n",
        "\n",
        "node1 = linkedListNode(\"2\")\n",
        "node2 = linkedListNode(\"3\")\n",
        "node3 = linkedListNode(\"5\")\n",
        "node4 = linkedListNode(\"7\")\n",
        "node5 = linkedListNode(\"11\")\n",
        "node6 = linkedListNode(\"13\")\n",
        "node7 = linkedListNode(\"17\")\n",
        "node8 = linkedListNode(\"19\")\n",
        "\n",
        "node1.nextNode = node2\n",
        "node2.nextNode = node3\n",
        "node3.nextNode = node4\n",
        "node4.nextNode = node5\n",
        "node5.nextNode = node6\n",
        "node6.nextNode = node7\n",
        "node7.nextNode = node8\n",
        "\n",
        "print (\"List of Prime Numbers less than 20: \")\n",
        "\n",
        "currentNode = node1\n",
        "while True:\n",
        "    print(currentNode.value, \"-> \", end='')\n",
        "    if currentNode.nextNode is None:\n",
        "        print(\"None\")\n",
        "        break\n",
        "    currentNode = currentNode.nextNode"
      ],
      "metadata": {
        "colab": {
          "base_uri": "https://localhost:8080/"
        },
        "id": "rZzFiPb-STPz",
        "outputId": "13d3674a-4880-44bb-9a24-838e2182a15c"
      },
      "execution_count": 49,
      "outputs": [
        {
          "output_type": "stream",
          "name": "stdout",
          "text": [
            "List of Prime Numbers less than 20: \n",
            "2 -> 3 -> 5 -> 7 -> 11 -> 13 -> 17 -> 19 -> None\n"
          ]
        }
      ]
    }
  ]
}