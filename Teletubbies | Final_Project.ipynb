{
  "nbformat": 4,
  "nbformat_minor": 0,
  "metadata": {
    "colab": {
      "provenance": [],
      "include_colab_link": true
    },
    "kernelspec": {
      "name": "python3",
      "display_name": "Python 3"
    },
    "language_info": {
      "name": "python"
    }
  },
  "cells": [
    {
      "cell_type": "markdown",
      "metadata": {
        "id": "view-in-github",
        "colab_type": "text"
      },
      "source": [
        "<a href=\"https://colab.research.google.com/github/Eberhard-26/DSA-58010/blob/main/Teletubbies%20%7C%20Final_Project.ipynb\" target=\"_parent\"><img src=\"https://colab.research.google.com/assets/colab-badge.svg\" alt=\"Open In Colab\"/></a>"
      ]
    },
    {
      "cell_type": "code",
      "execution_count": 2,
      "metadata": {
        "colab": {
          "base_uri": "https://localhost:8080/"
        },
        "id": "Pus3E4iQ2GhX",
        "outputId": "68c4d569-02c3-4fd2-d309-4f6e00ed7644"
      },
      "outputs": [
        {
          "output_type": "stream",
          "name": "stdout",
          "text": [
            " \n",
            "\n",
            "\n",
            " |======================================================| \n",
            " |==========       T E L E T U B B I E S      ==========|\n",
            " |======================================================|  \n",
            "\n",
            "\n",
            "Welcome to Teletubbies' Student Ranking System!\n",
            "\t\t\n",
            "\t\t\n",
            "How many students are in the class? 1\n",
            "Please type student number 1, First and Last name: De Casa, Eberhard Josh D.\n",
            "Please type student ID: 2021110662\n",
            "Please enter student term grades: \n",
            "Prelims: 88\n",
            "Midterms: 95\n",
            "Finals: 93\n",
            "De Casa, Eberhard Josh D. has an average score of 92 and received letter grade \"A\"\n",
            "\n",
            "-- Class Information --\n",
            "\n",
            "There are 1 students in this class.\n",
            "\n",
            "De Casa, Eberhard Josh D. has the highest student score! Score: 92\n",
            "De Casa, Eberhard Josh D. has the lowest student score! Score: 92\n",
            "\n",
            "The class average score is: 92.0\n"
          ]
        }
      ],
      "source": [
        "print(\"\"\" \n",
        "\n",
        "\n",
        " |======================================================| \n",
        " |==========       T E L E T U B B I E S      ==========|\n",
        " |======================================================|  \n",
        "\n",
        "\n",
        "Welcome to Teletubbies' Student Ranking System!\n",
        "\t\t\n",
        "\t\t\"\"\")\n",
        "\n",
        "def main():\n",
        "\n",
        "\n",
        "\n",
        "    # Lists\n",
        "    students = []\n",
        "    student_ids = []\n",
        "    grades = []\n",
        "\n",
        "    # Get number of subjects\n",
        "    num_students = int(input(\"How many students are in the class? \"))\n",
        "\n",
        "    # To initialize highest and lowest scores\n",
        "    high_score = 0\n",
        "    low_score = 999999\n",
        "\n",
        "    # Loop to get students info\n",
        "    for x in range(num_students):\n",
        "        student_name = input(\"Please type student number \" +\n",
        "                             str(x+1) + \", First and Last name: \")\n",
        "        student_id = input(\"Please type student ID: \")\n",
        "        print(\"Please enter student term grades: \")\n",
        "        Prelims = int(input(\"Prelims: \"))\n",
        "        Midterms = int(input(\"Midterms: \"))\n",
        "        Finals = int(input(\"Finals: \"))\n",
        "        \n",
        "\n",
        "        total = Prelims + Midterms + Finals \n",
        "\n",
        "        student_avg = total / 3\n",
        "\n",
        "        print(student_name, \"has an average score of\", round(student_avg), end=\" \")\n",
        "\n",
        "        # To get letter grade\n",
        "        if(student_avg >= 90 and student_avg <= 100):\n",
        "            print('and received letter grade \"A\"\\n')\n",
        "        elif(student_avg >= 80 and student_avg < 90):\n",
        "            print('and received letter grade \"B\"\\n')\n",
        "        elif(student_avg >= 70 and student_avg < 80):\n",
        "            print('and received letter grade \"C\"\\n')\n",
        "        elif(student_avg >= 60 and student_avg < 70):\n",
        "            print('and received letter grade \"D\"\\n')\n",
        "        elif(student_avg >= 0 and student_avg < 60):\n",
        "            print('and received letter grade \"F\"\\n')\n",
        "        else:\n",
        "            print(\"Strange Grade!\\n\")\n",
        "\n",
        "        # To determine if student has the highest score in class\n",
        "        if student_avg >= high_score:\n",
        "            high_score = student_avg\n",
        "            high_score_student_name = student_name\n",
        "\n",
        "        # To determine if student has the lowest score in class\n",
        "        if student_avg <= low_score:\n",
        "            low_score = student_avg\n",
        "            low_score_student_name = student_name\n",
        "\n",
        "        # To add values to lists\n",
        "        students.append(student_name)\n",
        "        student_ids.append(student_id)\n",
        "        grades.append(student_avg)\n",
        "\n",
        "    print(\"-- Class Information --\\n\")\n",
        "\n",
        "    print(\"There are\", num_students, \"students in this class.\\n\")\n",
        "\n",
        "    print(high_score_student_name +\n",
        "          \" has the highest student score! Score: \" + str (round(high_score)))\n",
        "    print(low_score_student_name +\n",
        "          \" has the lowest student score! Score: \" + str (round(low_score)))\n",
        "\n",
        "    class_avg = sum(grades) / num_students\n",
        "\n",
        "    print(\"\\nThe class average score is:\", round(class_avg, 2))\n",
        "\n",
        "\n",
        "main()"
      ]
    }
  ]
}