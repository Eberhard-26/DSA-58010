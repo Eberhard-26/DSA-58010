{
  "nbformat": 4,
  "nbformat_minor": 0,
  "metadata": {
    "colab": {
      "provenance": [],
      "include_colab_link": true
    },
    "kernelspec": {
      "name": "python3",
      "display_name": "Python 3"
    },
    "language_info": {
      "name": "python"
    }
  },
  "cells": [
    {
      "cell_type": "markdown",
      "metadata": {
        "id": "view-in-github",
        "colab_type": "text"
      },
      "source": [
        "<a href=\"https://colab.research.google.com/github/Eberhard-26/DSA-58010/blob/main/Teletubbies%20%7C%20Final_Project.ipynb\" target=\"_parent\"><img src=\"https://colab.research.google.com/assets/colab-badge.svg\" alt=\"Open In Colab\"/></a>"
      ]
    },
    {
      "cell_type": "code",
      "execution_count": 43,
      "metadata": {
        "colab": {
          "base_uri": "https://localhost:8080/",
          "height": 545
        },
        "id": "Pus3E4iQ2GhX",
        "outputId": "efe1cf33-f636-446f-ac23-0f953c70063f"
      },
      "outputs": [
        {
          "output_type": "stream",
          "name": "stdout",
          "text": [
            " \n",
            "\n",
            "\n",
            " |======================================================| \n",
            " |==========       T E L E T U B B I E S      ==========|\n",
            " |======================================================|  \n",
            "\n",
            "\n",
            "Welcome to Teletubbies' Student Ranking System!\n",
            "\t\t\n",
            "\t\t\n"
          ]
        },
        {
          "output_type": "error",
          "ename": "KeyboardInterrupt",
          "evalue": "ignored",
          "traceback": [
            "\u001b[0;31m---------------------------------------------------------------------------\u001b[0m",
            "\u001b[0;31mKeyboardInterrupt\u001b[0m                         Traceback (most recent call last)",
            "\u001b[0;32m<ipython-input-43-485ae4c6372d>\u001b[0m in \u001b[0;36m<module>\u001b[0;34m\u001b[0m\n\u001b[1;32m    101\u001b[0m \u001b[0;34m\u001b[0m\u001b[0m\n\u001b[1;32m    102\u001b[0m \u001b[0;34m\u001b[0m\u001b[0m\n\u001b[0;32m--> 103\u001b[0;31m \u001b[0mmain\u001b[0m\u001b[0;34m(\u001b[0m\u001b[0;34m)\u001b[0m\u001b[0;34m\u001b[0m\u001b[0;34m\u001b[0m\u001b[0m\n\u001b[0m\u001b[1;32m    104\u001b[0m \u001b[0;34m\u001b[0m\u001b[0m\n\u001b[1;32m    105\u001b[0m \u001b[0;34m\u001b[0m\u001b[0m\n",
            "\u001b[0;32m<ipython-input-43-485ae4c6372d>\u001b[0m in \u001b[0;36mmain\u001b[0;34m()\u001b[0m\n\u001b[1;32m     21\u001b[0m \u001b[0;34m\u001b[0m\u001b[0m\n\u001b[1;32m     22\u001b[0m     \u001b[0;31m# Get number of subjects\u001b[0m\u001b[0;34m\u001b[0m\u001b[0;34m\u001b[0m\u001b[0;34m\u001b[0m\u001b[0m\n\u001b[0;32m---> 23\u001b[0;31m     \u001b[0mnum_students\u001b[0m \u001b[0;34m=\u001b[0m \u001b[0mint\u001b[0m\u001b[0;34m(\u001b[0m\u001b[0minput\u001b[0m\u001b[0;34m(\u001b[0m\u001b[0;34m\"How many students are in the class? \"\u001b[0m\u001b[0;34m)\u001b[0m\u001b[0;34m)\u001b[0m\u001b[0;34m\u001b[0m\u001b[0;34m\u001b[0m\u001b[0m\n\u001b[0m\u001b[1;32m     24\u001b[0m \u001b[0;34m\u001b[0m\u001b[0m\n\u001b[1;32m     25\u001b[0m     \u001b[0;31m# To initialize highest and lowest scores\u001b[0m\u001b[0;34m\u001b[0m\u001b[0;34m\u001b[0m\u001b[0;34m\u001b[0m\u001b[0m\n",
            "\u001b[0;32m/usr/local/lib/python3.8/dist-packages/ipykernel/kernelbase.py\u001b[0m in \u001b[0;36mraw_input\u001b[0;34m(self, prompt)\u001b[0m\n\u001b[1;32m    858\u001b[0m                 \u001b[0;34m\"raw_input was called, but this frontend does not support input requests.\"\u001b[0m\u001b[0;34m\u001b[0m\u001b[0;34m\u001b[0m\u001b[0m\n\u001b[1;32m    859\u001b[0m             )\n\u001b[0;32m--> 860\u001b[0;31m         return self._input_request(str(prompt),\n\u001b[0m\u001b[1;32m    861\u001b[0m             \u001b[0mself\u001b[0m\u001b[0;34m.\u001b[0m\u001b[0m_parent_ident\u001b[0m\u001b[0;34m,\u001b[0m\u001b[0;34m\u001b[0m\u001b[0;34m\u001b[0m\u001b[0m\n\u001b[1;32m    862\u001b[0m             \u001b[0mself\u001b[0m\u001b[0;34m.\u001b[0m\u001b[0m_parent_header\u001b[0m\u001b[0;34m,\u001b[0m\u001b[0;34m\u001b[0m\u001b[0;34m\u001b[0m\u001b[0m\n",
            "\u001b[0;32m/usr/local/lib/python3.8/dist-packages/ipykernel/kernelbase.py\u001b[0m in \u001b[0;36m_input_request\u001b[0;34m(self, prompt, ident, parent, password)\u001b[0m\n\u001b[1;32m    902\u001b[0m             \u001b[0;32mexcept\u001b[0m \u001b[0mKeyboardInterrupt\u001b[0m\u001b[0;34m:\u001b[0m\u001b[0;34m\u001b[0m\u001b[0;34m\u001b[0m\u001b[0m\n\u001b[1;32m    903\u001b[0m                 \u001b[0;31m# re-raise KeyboardInterrupt, to truncate traceback\u001b[0m\u001b[0;34m\u001b[0m\u001b[0;34m\u001b[0m\u001b[0;34m\u001b[0m\u001b[0m\n\u001b[0;32m--> 904\u001b[0;31m                 \u001b[0;32mraise\u001b[0m \u001b[0mKeyboardInterrupt\u001b[0m\u001b[0;34m(\u001b[0m\u001b[0;34m\"Interrupted by user\"\u001b[0m\u001b[0;34m)\u001b[0m \u001b[0;32mfrom\u001b[0m \u001b[0;32mNone\u001b[0m\u001b[0;34m\u001b[0m\u001b[0;34m\u001b[0m\u001b[0m\n\u001b[0m\u001b[1;32m    905\u001b[0m             \u001b[0;32mexcept\u001b[0m \u001b[0mException\u001b[0m \u001b[0;32mas\u001b[0m \u001b[0me\u001b[0m\u001b[0;34m:\u001b[0m\u001b[0;34m\u001b[0m\u001b[0;34m\u001b[0m\u001b[0m\n\u001b[1;32m    906\u001b[0m                 \u001b[0mself\u001b[0m\u001b[0;34m.\u001b[0m\u001b[0mlog\u001b[0m\u001b[0;34m.\u001b[0m\u001b[0mwarning\u001b[0m\u001b[0;34m(\u001b[0m\u001b[0;34m\"Invalid Message:\"\u001b[0m\u001b[0;34m,\u001b[0m \u001b[0mexc_info\u001b[0m\u001b[0;34m=\u001b[0m\u001b[0;32mTrue\u001b[0m\u001b[0;34m)\u001b[0m\u001b[0;34m\u001b[0m\u001b[0;34m\u001b[0m\u001b[0m\n",
            "\u001b[0;31mKeyboardInterrupt\u001b[0m: Interrupted by user"
          ]
        }
      ],
      "source": [
        "print(\"\"\" \n",
        "\n",
        "\n",
        " |======================================================| \n",
        " |==========       T E L E T U B B I E S      ==========|\n",
        " |======================================================|  \n",
        "\n",
        "\n",
        "Welcome to Teletubbies' Student Ranking System!\n",
        "\t\t\n",
        "\t\t\"\"\")\n",
        "\n",
        "def main():\n",
        "\n",
        "\n",
        "\n",
        "    # Lists\n",
        "    students = []\n",
        "    student_ids = []\n",
        "    grades = []\n",
        "\n",
        "    # Get number of subjects\n",
        "    num_students = int(input(\"How many students are in the class? \"))\n",
        "\n",
        "    # To initialize highest and lowest scores\n",
        "    high_score = 0\n",
        "    low_score = 999999\n",
        "\n",
        "    # Loop to get students info\n",
        "    for x in range(num_students):\n",
        "        student_name = input(\"Please type student number \" +\n",
        "                             str(x+1) + \", First and Last name: \")\n",
        "        student_id = input(\"Please type student ID: \")\n",
        "        print(\"Please enter student term grades: \")\n",
        "        Prelims = int(input(\"Prelims: \"))\n",
        "        Midterms = int(input(\"Midterms: \"))\n",
        "        Finals = int(input(\"Finals: \"))\n",
        "        \n",
        "\n",
        "        total = Prelims + Midterms + Finals \n",
        "\n",
        "        student_avg = total / 3\n",
        "\n",
        "        print(student_name, \"has an average score of\", round(student_avg), end=\" \")\n",
        "\n",
        "        # To get letter grade\n",
        "        if(student_avg >= 90 and student_avg <= 100):\n",
        "            print('and received letter grade \"A\"\\n')\n",
        "        elif(student_avg >= 80 and student_avg < 90):\n",
        "            print('and received letter grade \"B\"\\n')\n",
        "        elif(student_avg >= 70 and student_avg < 80):\n",
        "            print('and received letter grade \"C\"\\n')\n",
        "        elif(student_avg >= 60 and student_avg < 70):\n",
        "            print('and received letter grade \"D\"\\n')\n",
        "        elif(student_avg >= 0 and student_avg < 60):\n",
        "            print('and received letter grade \"F\"\\n')\n",
        "        else:\n",
        "            print(\"Strange Grade!\\n\")\n",
        "\n",
        "        # To determine if student has the highest score in class\n",
        "        if student_avg >= high_score:\n",
        "            high_score = student_avg\n",
        "            high_score_student_name = student_name\n",
        "\n",
        "        # To determine if student has the lowest score in class\n",
        "        if student_avg <= low_score:\n",
        "            low_score = student_avg\n",
        "            low_score_student_name = student_name\n",
        "\n",
        "        # To add values to lists\n",
        "        students.append(student_name)\n",
        "        student_ids.append(student_id)\n",
        "        grades.append(student_avg)\n",
        "\n",
        "    print(\"-- Class Information --\\n\")\n",
        "\n",
        "    print(\"There are\", num_students, \"students in this class.\\n\")\n",
        "\n",
        "    print(high_score_student_name +\n",
        "          \" has the highest student score! Score: \" + str (round(high_score)))\n",
        "    print(low_score_student_name +\n",
        "          \" has the lowest student score! Score: \" + str (round(low_score)))\n",
        "\n",
        "    class_avg = sum(grades) / num_students\n",
        "\n",
        "    print(\"\\nThe class average score is:\", round(class_avg, 2))\n",
        "\n",
        "    print(\"\\nThe class median score is:\", round(median(grades)))\n",
        "\t\n",
        "\n",
        "# Function to calculate class median\n",
        "def median(grades):\n",
        "    sorted_list = sorted(grades)\n",
        "    list_len = len(grades)\n",
        "    index = (list_len - 1) // 2\n",
        "\n",
        "    if (list_len % 2):\n",
        "        return sorted_list[index]\n",
        "    else:\n",
        "        return (sorted_list[index] + sorted_list[index + 1])/2.0\n",
        "\n",
        "\n",
        "main()"
      ]
    }
  ]
}