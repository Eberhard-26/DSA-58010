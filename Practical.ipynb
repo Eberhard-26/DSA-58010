{
  "nbformat": 4,
  "nbformat_minor": 0,
  "metadata": {
    "colab": {
      "name": "Practical",
      "provenance": [],
      "authorship_tag": "ABX9TyPVAx2ltCEOWPp667GNiVD6",
      "include_colab_link": true
    },
    "kernelspec": {
      "name": "python3",
      "display_name": "Python 3"
    },
    "language_info": {
      "name": "python"
    }
  },
  "cells": [
    {
      "cell_type": "markdown",
      "metadata": {
        "id": "view-in-github",
        "colab_type": "text"
      },
      "source": [
        "<a href=\"https://colab.research.google.com/github/Eberhard-26/DSA-58010/blob/main/Practical.ipynb\" target=\"_parent\"><img src=\"https://colab.research.google.com/assets/colab-badge.svg\" alt=\"Open In Colab\"/></a>"
      ]
    },
    {
      "cell_type": "code",
      "execution_count": 55,
      "metadata": {
        "colab": {
          "base_uri": "https://localhost:8080/"
        },
        "id": "S6ypFNSRdTzU",
        "outputId": "be957942-6e9e-459b-ee4c-71ce7a665505"
      },
      "outputs": [
        {
          "output_type": "stream",
          "name": "stdout",
          "text": [
            "Even Numbers:  [26, 98, 62]\n",
            "The sum of the even test score numbers is 186\n"
          ]
        }
      ],
      "source": [
        "scores = [26, 49, 98, 87, 62, 75]\n",
        "sum = 0\n",
        "\n",
        "even_nos = [num for num in scores if num % 2 == 0]\n",
        "print(\"Even Numbers: \", even_nos)\n",
        "\n",
        "for i in scores:\n",
        "  if not i%2:\n",
        "    sum+=i\n",
        "\n",
        "print(\"The sum of the even test score numbers is\", sum)"
      ]
    }
  ]
}