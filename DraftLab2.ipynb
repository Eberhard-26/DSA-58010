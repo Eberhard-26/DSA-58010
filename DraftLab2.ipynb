{
  "nbformat": 4,
  "nbformat_minor": 0,
  "metadata": {
    "colab": {
      "provenance": [],
      "authorship_tag": "ABX9TyMGN3gZNtQlcPvBgeINEG1k",
      "include_colab_link": true
    },
    "kernelspec": {
      "name": "python3",
      "display_name": "Python 3"
    },
    "language_info": {
      "name": "python"
    }
  },
  "cells": [
    {
      "cell_type": "markdown",
      "metadata": {
        "id": "view-in-github",
        "colab_type": "text"
      },
      "source": [
        "<a href=\"https://colab.research.google.com/github/Eberhard-26/DSA-58010/blob/main/DraftLab2.ipynb\" target=\"_parent\"><img src=\"https://colab.research.google.com/assets/colab-badge.svg\" alt=\"Open In Colab\"/></a>"
      ]
    },
    {
      "cell_type": "code",
      "execution_count": 22,
      "metadata": {
        "colab": {
          "base_uri": "https://localhost:8080/"
        },
        "id": "cS9hQvwBXvyH",
        "outputId": "4e3bf4be-5c7d-47c9-9ec1-a456fe4d2160"
      },
      "outputs": [
        {
          "output_type": "stream",
          "name": "stdout",
          "text": [
            "The Minimum element in a given list [2, 4, 6, 8, 10] = 2\n",
            "The Maximum element in a given list [2, 4, 6, 8, 10] = 10\n"
          ]
        }
      ],
      "source": [
        "from typing import List\n",
        "\n",
        "def max_elemnt(G_lst, len_lst):\n",
        "    if len_lst == 1:\n",
        "        return G_lst[0]\n",
        "    return max(G_lst[len_lst - 1], max_elemnt(G_lst, len_lst - 1))\n",
        "\n",
        "def min_elemnt(G_lst, len_lst):\n",
        "    if len_lst == 1:\n",
        "        return G_lst[0]\n",
        "    return min(G_lst[len_lst-1], min_elemnt(G_lst, len_lst-1))\n",
        "\n",
        "G_lst = [2,4,6,8,10]\n",
        "len_lst = len(G_lst)\n",
        "\n",
        "print(\"The Minimum element in a given list\",\n",
        "      G_lst, \"=\", min_elemnt(G_lst, len_lst))\n",
        "print(\"The Maximum element in a given list\",\n",
        "      G_lst, \"=\", max_elemnt(G_lst, len_lst))"
      ]
    },
    {
      "cell_type": "code",
      "source": [
        "#Write a short recursive Python function that finds the minimum and maximum values in a sequence without using any loops\n",
        "#Set 2,4,6,8,10 as example sequence in the python program\n",
        "\n",
        "def Minimum(values):         #Def Function for Minimum Value\n",
        "   if len(values) == 0:                 \n",
        "     return None\n",
        "   if len(values) == 1:                 \n",
        "     return values[0]         \n",
        "   return min(values[0], Minimum(values[1:]))  #min function\n",
        "    \n",
        "def Maximum(values):         #Def Function for Maximum Value\n",
        "   if len(values) == 0:                 \n",
        "     return None         \n",
        "   if len(values) == 1:                 \n",
        "     return values[0]         \n",
        "   return max(values[0], Maximum(values[1:]))  #max function\n",
        "\n",
        "print(\"Minimum Value of the Sequence: [2,4,6,8,10]\", Minimum([2,4,6,8,10])) \n",
        "print(\"Maximum Value of the Sequence: [2,4,6,8,10]\",Maximum([2,4,6,8,10]))"
      ],
      "metadata": {
        "colab": {
          "base_uri": "https://localhost:8080/"
        },
        "id": "2Cc5w2s6fRam",
        "outputId": "324eaeda-517d-4556-b0bb-4634fc309d3a"
      },
      "execution_count": 20,
      "outputs": [
        {
          "output_type": "stream",
          "name": "stdout",
          "text": [
            "Minimum Value of the Sequence: [2,4,6,8,10] 2\n",
            "Maximum Value of the Sequence: [2,4,6,8,10] 10\n"
          ]
        }
      ]
    }
  ]
}